{
 "cells": [
  {
   "cell_type": "code",
   "execution_count": 103,
   "metadata": {},
   "outputs": [],
   "source": [
    "# importing necessary libraries\n",
    "import pandas as pd\n",
    "from sklearn.metrics.pairwise import cosine_similarity\n",
    "import numpy as np"
   ]
  },
  {
   "cell_type": "code",
   "execution_count": 104,
   "metadata": {},
   "outputs": [],
   "source": [
    "# datasets\n",
    "movies = pd.read_csv('movies.csv')\n",
    "ratings = pd.read_csv('ratings.csv')"
   ]
  },
  {
   "cell_type": "code",
   "execution_count": 105,
   "metadata": {},
   "outputs": [
    {
     "name": "stdout",
     "output_type": "stream",
     "text": [
      "   movieId                               title  \\\n",
      "0        1                    Toy Story (1995)   \n",
      "1        2                      Jumanji (1995)   \n",
      "2        3             Grumpier Old Men (1995)   \n",
      "3        4            Waiting to Exhale (1995)   \n",
      "4        5  Father of the Bride Part II (1995)   \n",
      "\n",
      "                                        genres  \n",
      "0  Adventure|Animation|Children|Comedy|Fantasy  \n",
      "1                   Adventure|Children|Fantasy  \n",
      "2                               Comedy|Romance  \n",
      "3                         Comedy|Drama|Romance  \n",
      "4                                       Comedy  \n",
      "   userId  movieId  rating  timestamp\n",
      "0       1       17     4.0  944249077\n",
      "1       1       25     1.0  944250228\n",
      "2       1       29     2.0  943230976\n",
      "3       1       30     5.0  944249077\n",
      "4       1       32     5.0  943228858\n"
     ]
    }
   ],
   "source": [
    "print(movies.head())\n",
    "print(ratings.head())"
   ]
  },
  {
   "cell_type": "code",
   "execution_count": 106,
   "metadata": {},
   "outputs": [],
   "source": [
    "movies['genres'] = movies['genres'].str.split('|')\n",
    "# compute avg ratings of each movie\n",
    "average_ratings = ratings.groupby('movieId')['rating'].mean().reset_index()\n",
    "average_ratings.columns = ['movieId', 'average_rating']\n",
    "# remove useless and NA genres\n",
    "movies = movies[~movies['genres'].apply(lambda x: 'IMAX' in x)]\n",
    "movies = movies[~movies['genres'].apply(lambda x: '(no genres listed)' in x)]"
   ]
  },
  {
   "cell_type": "code",
   "execution_count": 107,
   "metadata": {},
   "outputs": [
    {
     "name": "stdout",
     "output_type": "stream",
     "text": [
      "{'Horror', 'Musical', 'Adventure', 'Romance', 'Children', 'Documentary', 'Crime', 'Comedy', 'Mystery', 'Sci-Fi', 'Film-Noir', 'War', 'Drama', 'Animation', 'Thriller', 'Fantasy', 'Western', 'Action'}\n"
     ]
    }
   ],
   "source": [
    "# retrieve all genres \n",
    "all_genres = set()\n",
    "for genre_list in movies['genres']:\n",
    "    for genre in genre_list:\n",
    "        all_genres.add(genre)\n",
    "print(all_genres)"
   ]
  },
  {
   "cell_type": "code",
   "execution_count": 108,
   "metadata": {},
   "outputs": [],
   "source": [
    "# making a genre matrix\n",
    "all_genres_list = []\n",
    "for genre in all_genres:\n",
    "    all_genres_list.append(genre) \n",
    "genre_matrix = pd.DataFrame(0, index=movies['movieId'], columns=all_genres_list)\n",
    "for index, row in movies.iterrows():\n",
    "    genre_matrix.loc[row['movieId'], row['genres']] = 1"
   ]
  },
  {
   "cell_type": "code",
   "execution_count": 109,
   "metadata": {},
   "outputs": [
    {
     "name": "stdin",
     "output_type": "stream",
     "text": [
      "Do you like Horror movies? Please answer with a yes or no:  yes\n",
      "Do you like Musical movies? Please answer with a yes or no:  no\n",
      "Do you like Adventure movies? Please answer with a yes or no:  no\n",
      "Do you like Romance movies? Please answer with a yes or no:  no\n",
      "Do you like Children movies? Please answer with a yes or no:  no\n",
      "Do you like Documentary movies? Please answer with a yes or no:  no\n",
      "Do you like Crime movies? Please answer with a yes or no:  no\n",
      "Do you like Comedy movies? Please answer with a yes or no:  no\n",
      "Do you like Mystery movies? Please answer with a yes or no:  no\n",
      "Do you like Sci-Fi movies? Please answer with a yes or no:  no\n",
      "Do you like Film-Noir movies? Please answer with a yes or no:  no\n",
      "Do you like War movies? Please answer with a yes or no:  no\n",
      "Do you like Drama movies? Please answer with a yes or no:  no\n",
      "Do you like Animation movies? Please answer with a yes or no:  no\n",
      "Do you like Thriller movies? Please answer with a yes or no:  yes\n",
      "Do you like Fantasy movies? Please answer with a yes or no:  no\n",
      "Do you like Western movies? Please answer with a yes or no:  no\n",
      "Do you like Action movies? Please answer with a yes or no:  yes\n"
     ]
    },
    {
     "name": "stdout",
     "output_type": "stream",
     "text": [
      "Your genre preferences:\n",
      "Horror         1\n",
      "Musical        0\n",
      "Adventure      0\n",
      "Romance        0\n",
      "Children       0\n",
      "Documentary    0\n",
      "Crime          0\n",
      "Comedy         0\n",
      "Mystery        0\n",
      "Sci-Fi         0\n",
      "Film-Noir      0\n",
      "War            0\n",
      "Drama          0\n",
      "Animation      0\n",
      "Thriller       1\n",
      "Fantasy        0\n",
      "Western        0\n",
      "Action         1\n",
      "dtype: int64\n"
     ]
    }
   ],
   "source": [
    "# genre preferences \n",
    "preferred_genres = []\n",
    "for genre in all_genres:\n",
    "    ans = input(f\"Do you like {genre} movies? Please answer with a yes or no: \").strip().lower()\n",
    "    if ans == 'yes':\n",
    "        preferred_genres.append(genre)        \n",
    "user_preferences = pd.Series([1 if genre in preferred_genres else 0 for genre in all_genres], index=all_genres)\n",
    "print(\"Your genre preferences:\")\n",
    "print(user_preferences)"
   ]
  },
  {
   "cell_type": "code",
   "execution_count": 110,
   "metadata": {},
   "outputs": [],
   "source": [
    "# computing similarities\n",
    "cosine_similarities = cosine_similarity([user_preferences], genre_matrix)[0]\n",
    "movies['similarity'] = cosine_similarities"
   ]
  },
  {
   "cell_type": "code",
   "execution_count": 111,
   "metadata": {},
   "outputs": [
    {
     "name": "stdout",
     "output_type": "stream",
     "text": [
      "       movieId                    title                              genres  \\\n",
      "75336   283889         Possessed (2022)          [Action, Horror, Thriller]   \n",
      "52392   198925         Dead Cert (2010)          [Action, Horror, Thriller]   \n",
      "29926   139473        Lost Woods (2012)  [Action, Horror, Sci-Fi, Thriller]   \n",
      "23615   120418         Full Clip (2006)                  [Action, Thriller]   \n",
      "53571   201781           Dawning (2009)                  [Horror, Thriller]   \n",
      "48117   188547  Horror Stories 2 (2013)                  [Horror, Thriller]   \n",
      "49376   191801         Del Playa (2015)                  [Horror, Thriller]   \n",
      "44113   178765       Last Flight (2014)                  [Action, Thriller]   \n",
      "62499   228017      On Halloween (2020)                  [Horror, Thriller]   \n",
      "26037   128045     Reality Check (2002)                  [Horror, Thriller]   \n",
      "\n",
      "       similarity  average_rating  combined_score  \n",
      "75336    1.000000             5.0        4.600000  \n",
      "52392    1.000000             5.0        4.600000  \n",
      "29926    0.866025             5.0        4.586603  \n",
      "23615    0.816497             5.0        4.581650  \n",
      "53571    0.816497             5.0        4.581650  \n",
      "48117    0.816497             5.0        4.581650  \n",
      "49376    0.816497             5.0        4.581650  \n",
      "44113    0.816497             5.0        4.581650  \n",
      "62499    0.816497             5.0        4.581650  \n",
      "26037    0.816497             5.0        4.581650  \n"
     ]
    }
   ],
   "source": [
    "# sorting and printing out top 10 movies based on weighted similarity and rating\n",
    "movies_with_ratings = pd.merge(movies, average_ratings, on='movieId')\n",
    "# change parameters to either emphasize on similarity or rating\n",
    "weight_similarity = 0.1\n",
    "weight_rating = 0.9\n",
    "\n",
    "movies_with_ratings['combined_score'] = (weight_similarity * movies_with_ratings['similarity']) + (weight_rating * movies_with_ratings['average_rating'])\n",
    "top_movies_sorted = movies_with_ratings.sort_values(by='combined_score', ascending=False).head(10)\n",
    "print(top_movies_sorted[['movieId', 'title', 'genres', 'similarity', 'average_rating', 'combined_score']])"
   ]
  },
  {
   "cell_type": "code",
   "execution_count": null,
   "metadata": {},
   "outputs": [],
   "source": []
  }
 ],
 "metadata": {
  "kernelspec": {
   "display_name": "Python 3 (ipykernel)",
   "language": "python",
   "name": "python3"
  },
  "language_info": {
   "codemirror_mode": {
    "name": "ipython",
    "version": 3
   },
   "file_extension": ".py",
   "mimetype": "text/x-python",
   "name": "python",
   "nbconvert_exporter": "python",
   "pygments_lexer": "ipython3",
   "version": "3.11.7"
  }
 },
 "nbformat": 4,
 "nbformat_minor": 4
}
